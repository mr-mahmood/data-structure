{
 "cells": [
  {
   "cell_type": "markdown",
   "metadata": {},
   "source": [
    "<br/>\n",
    "  <img align=\"center\" src=\"../images/stack1.png\" />\n",
    "\n",
    "<br/>\n",
    "\n",
    "\n",
    "# Stack: A Fundamental Data Structure\n",
    "A **stack** is a linear data structure that follows the **LIFO (Last In, First Out)** principle. This means the last element added to the stack is the first one to be removed. Stacks are widely used in programming for tasks like function call management, undo operations, and expression evaluation.\n",
    "\n",
    "## Characteristics of a Stack:\n",
    "1. **LIFO Principle**: The last element added is the first to be removed.\n",
    "2. **Core Operations**:\n",
    "   - **Push**: Add an element to the top of the stack.\n",
    "   - **Pop**: Remove and return the top element of the stack.\n",
    "   - **Peek/Top**: Retrieve the top element without removing it.\n",
    "   - **isEmpty**: Check if the stack is empty.\n",
    "\n",
    "## Visualization:\n",
    "Think of a stack of plates:\n",
    "- **Push**: Adding a plate to the top.\n",
    "- **Pop**: Removing the top plate.\n",
    "- The plate at the bottom is only accessible after removing all the plates above it.\n",
    "\n",
    "<br/>\n",
    "  <img align=\"center\" src=\"../images/stack2.png\" />\n",
    "\n",
    "\n",
    "## Applications of Stacks:\n",
    "1. **Function Call Management**: Managing function calls and returns in programming languages.\n",
    "2. **Expression Evaluation**: Converting and evaluating infix, postfix, or prefix expressions.\n",
    "3. **Undo Mechanisms**: Supporting undo operations in text editors.\n",
    "4. **Parenthesis Matching**: Validating balanced parentheses in expressions.\n",
    "5. **Depth-First Search (DFS)**: Used in graph and tree traversal.\n",
    "\n",
    "\n",
    "## Summary\n",
    "A stack is a simple yet powerful data structure that is essential in various computational processes. Python provides multiple ways to implement stacks, offering flexibility for different use cases. Whether you use lists or `deque`, understanding the LIFO behavior and applications of stacks is crucial for solving complex programming problems efficiently.\n"
   ]
  }
 ],
 "metadata": {
  "language_info": {
   "name": "python"
  }
 },
 "nbformat": 4,
 "nbformat_minor": 2
}
